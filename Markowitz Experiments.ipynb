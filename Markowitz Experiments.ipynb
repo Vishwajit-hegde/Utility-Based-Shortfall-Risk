{
 "cells": [
  {
   "cell_type": "code",
   "execution_count": 259,
   "id": "ec383101",
   "metadata": {},
   "outputs": [],
   "source": [
    "import pandas as pd\n",
    "import numpy as np\n",
    "import matplotlib.pyplot as plt\n",
    "import seaborn as sns\n",
    "import cvxpy as cp\n",
    "from copy import deepcopy \n",
    "import warnings\n",
    "from tqdm import tqdm\n",
    "warnings.filterwarnings(\"ignore\")"
   ]
  },
  {
   "cell_type": "markdown",
   "id": "1c15d462",
   "metadata": {},
   "source": [
    "### Solution using CVX"
   ]
  },
  {
   "cell_type": "code",
   "execution_count": 388,
   "id": "d5f87a5e",
   "metadata": {},
   "outputs": [
    {
     "data": {
      "text/plain": [
       "[0.3929111908032914, array([0.456  , 0.17841, 0.36559]), 0.085]"
      ]
     },
     "execution_count": 388,
     "metadata": {},
     "output_type": "execute_result"
    }
   ],
   "source": [
    "def generate_params(size):\n",
    "    mu = np.linspace(0.05,0.50,size)\n",
    "    sigma = np.diag(mu+0.05)**2\n",
    "    for i in range(size):\n",
    "        for j in range(i+1, size):\n",
    "            sigma[i][j] = 0.35 * np.sqrt(sigma[i][i]*sigma[j][j])\n",
    "            sigma[j][i] = sigma[i][j]\n",
    "    return mu, sigma\n",
    "\n",
    "beta = 5\n",
    "lamda = 0.1\n",
    "\n",
    "size = 3\n",
    "mu = np.array([0.1073,0.0737,0.0627])\n",
    "sigma = np.array([[0.02778,0.00387,0.00021],[0.00387,0.01112,-0.00020],[0.00021,-0.00020,0.00115]])\n",
    "R = 0.085\n",
    "\n",
    "# size = 10\n",
    "# mu, sigma = generate_params(size)\n",
    "# R = 0.4\n",
    "\n",
    "def get_optimal_ubsr(mu=mu,sigma=sigma,R=R,beta=beta,lamda=lamda):\n",
    "    x = cp.Variable(size)\n",
    "\n",
    "    # Define the objective function\n",
    "    objective = -mu @ x + (beta / 2) * cp.quad_form(x, sigma) - cp.log(lamda) / beta\n",
    "\n",
    "    # Define the constraints\n",
    "    constraints = [sum(x) <= 1] + [x[i]>=0 for i in range(size)] + [mu.T @ x >= R]\n",
    "\n",
    "    # Formulate the optimization problem\n",
    "    problem = cp.Problem(cp.Minimize(objective), constraints)\n",
    "\n",
    "    # Solve the problem\n",
    "    problem.solve(solver='OSQP', max_iter=10000)\n",
    "    \n",
    "    if problem.status == cp.OPTIMAL:\n",
    "        ubsr = -mu @ x.value + beta/2 * x.value.T @ sigma @ x.value - np.log(lamda)/beta\n",
    "        return [ubsr,np.abs(np.round(x.value,5)),round(mu @ x.value,4)]\n",
    "    else:\n",
    "        print(\"Optimization problem did not converge.\")\n",
    "        \n",
    "get_optimal_ubsr()"
   ]
  },
  {
   "cell_type": "markdown",
   "id": "a3a7a8f5",
   "metadata": {},
   "source": [
    "### Analytical Solution"
   ]
  },
  {
   "cell_type": "code",
   "execution_count": 389,
   "id": "e4826c78",
   "metadata": {},
   "outputs": [],
   "source": [
    "a = np.matmul(np.matmul(mu,np.linalg.inv(sigma)),np.ones(size).reshape(-1,1))[0]\n",
    "b = np.matmul(np.matmul(np.ones(size),np.linalg.inv(sigma)),np.ones(size).reshape(-1,1))[0]\n",
    "c = np.matmul(np.matmul(np.ones(size),np.linalg.inv(sigma)),mu.reshape(-1,1))[0]\n",
    "d = np.matmul(np.matmul(mu,np.linalg.inv(sigma)),mu.reshape(-1,1))[0]\n",
    "lambda1 = beta*(a - R*b) / (a*c - b*d) - 1\n",
    "lambda2 = beta*(R*c - d) / (a*c - b*d)"
   ]
  },
  {
   "cell_type": "code",
   "execution_count": 390,
   "id": "e3e0ffda",
   "metadata": {},
   "outputs": [],
   "source": [
    "theta_star = ((1+lambda1)*np.matmul(np.linalg.inv(sigma),mu.reshape(-1,1)) + lambda2 * np.matmul(np.linalg.inv(sigma),np.ones(size).reshape(-1,1)))/beta\n",
    "theta_star = theta_star.flatten()"
   ]
  },
  {
   "cell_type": "code",
   "execution_count": 391,
   "id": "7c6fbfcc",
   "metadata": {
    "scrolled": true
   },
   "outputs": [
    {
     "data": {
      "text/plain": [
       "array([0.45599732, 0.17841086, 0.36559182])"
      ]
     },
     "execution_count": 391,
     "metadata": {},
     "output_type": "execute_result"
    }
   ],
   "source": [
    "theta_star"
   ]
  },
  {
   "cell_type": "code",
   "execution_count": 392,
   "id": "44e3f5a1",
   "metadata": {
    "scrolled": true
   },
   "outputs": [
    {
     "data": {
      "text/plain": [
       "0.39291119080329096"
      ]
     },
     "execution_count": 392,
     "metadata": {},
     "output_type": "execute_result"
    }
   ],
   "source": [
    "sr_star = sr(theta_star, mu, sigma, beta, lamda)\n",
    "sr_star"
   ]
  },
  {
   "cell_type": "markdown",
   "id": "f4486fea",
   "metadata": {},
   "source": [
    "### Solution using SGD"
   ]
  },
  {
   "cell_type": "code",
   "execution_count": 367,
   "id": "d9614d9c",
   "metadata": {},
   "outputs": [],
   "source": [
    "def returns(mu, sig):\n",
    "    return np.random.multivariate_normal(mean = mu, cov = sig)\n",
    "\n",
    "def returns_m(mu, sig, m):\n",
    "    return np.random.multivariate_normal(mean = mu, cov = sig, size = m)\n",
    "\n",
    "def loss_dash(x, beta):\n",
    "    return -beta*np.exp(beta*x)\n",
    "\n",
    "def estimate_h(beta, theta, sr, returns):\n",
    "    loss_dashes = loss_dash(-np.matmul(theta,returns.T)-sr,beta)\n",
    "    B_m = np.sum(loss_dashes)\n",
    "    A_m = np.matmul(loss_dashes.T,-returns)\n",
    "    h = A_m/B_m                                                                                                                             \n",
    "    return h\n",
    "\n",
    "def get_alpha_k(n,k,alpha0):\n",
    "        i = int(np.ceil(np.log2(n)) - np.ceil(np.log2(n-k)))\n",
    "        return alpha0/np.sqrt(n) * 2**(-i)"
   ]
  },
  {
   "cell_type": "code",
   "execution_count": null,
   "id": "e6a7eb1e",
   "metadata": {},
   "outputs": [
    {
     "name": "stderr",
     "output_type": "stream",
     "text": [
      " 78%|███████████████████████████████████████████████████████████████▏                 | 78/100 [00:43<00:11,  1.85it/s]"
     ]
    }
   ],
   "source": [
    "Thetas = []\n",
    "SRs = []\n",
    "alpha0 = 100\n",
    "m = 100\n",
    "n = 500\n",
    "theta_init = np.array([0.999,0.001,0])\n",
    "\n",
    "for it in tqdm(range(100)):\n",
    "    theta_vals = []\n",
    "    sr_estimates = []\n",
    "    theta_vals.append(deepcopy(theta_init))\n",
    "    sr_estimates.append(sr(deepcopy(theta_init),mu,sigma,beta,lamda))\n",
    "    \n",
    "    theta = deepcopy(theta_init)\n",
    "\n",
    "    for k in range(n):\n",
    "        r_samples = returns_m(mu, sigma, m)\n",
    "        sr_val = sr(theta/np.sum(theta), mu, sigma, beta, lamda)\n",
    "        if k>0:\n",
    "            return_samples = np.concatenate((return_samples,r_samples),axis=0)\n",
    "        else:\n",
    "            return_samples = r_samples\n",
    "\n",
    "        r_i = np.mean(return_samples, axis = 0)\n",
    "        estimate = estimate_h(beta, theta, sr_val, return_samples)\n",
    "\n",
    "        alpha = get_alpha_k(n,k,alpha0)\n",
    "        j = np.random.choice([0,1,2])\n",
    "        theta[j] = theta[j] - alpha * (estimate[j] - lambda1 * r_i[j] - lambda2)\n",
    "        if theta[j] < 0:\n",
    "            theta[j] = 0\n",
    "    #     for k in [0,1,2]:\n",
    "    #         if k==j:\n",
    "    #             theta[k] = theta[k] - alpha * (estimate[k] - lambda1 * r_i[k] - lambda2)\n",
    "    #         if theta[k] < 0:\n",
    "    #             theta[k] = 0\n",
    "\n",
    "        #theta = theta / np.sum(theta)\n",
    "        theta_vals.append(theta/np.sum(theta))\n",
    "        sr_estimates.append(sr(theta/np.sum(theta), mu, sigma, beta, lamda))\n",
    "    Thetas.append(theta_vals)\n",
    "    SRs.append(sr_estimates)"
   ]
  },
  {
   "cell_type": "code",
   "execution_count": 424,
   "id": "4c7d6f8c",
   "metadata": {},
   "outputs": [
    {
     "data": {
      "text/plain": [
       "[<matplotlib.lines.Line2D at 0x2607e0e6410>]"
      ]
     },
     "execution_count": 424,
     "metadata": {},
     "output_type": "execute_result"
    },
    {
     "data": {
      "image/png": "[encoded data removed]",
      "text/plain": [
       "<Figure size 432x288 with 1 Axes>"
      ]
     },
     "metadata": {
      "needs_background": "light"
     },
     "output_type": "display_data"
    }
   ],
   "source": [
    "plt.plot(np.abs(np.mean(np.array(SRs),axis=0)-sr_star)**2)"
   ]
  },
  {
   "cell_type": "code",
   "execution_count": 425,
   "id": "7242e541",
   "metadata": {},
   "outputs": [],
   "source": [
    "Theta_Errors = []\n",
    "for j in range(100):\n",
    "    theta_error = []\n",
    "    for i in range(len(Thetas[j])):\n",
    "        theta_error.append(np.sum((Thetas[j][i]-theta_star)**2))\n",
    "    Theta_Errors.append(theta_error)"
   ]
  },
  {
   "cell_type": "code",
   "execution_count": 426,
   "id": "39858242",
   "metadata": {
    "scrolled": true
   },
   "outputs": [
    {
     "data": {
      "text/plain": [
       "[<matplotlib.lines.Line2D at 0x2607f1263b0>]"
      ]
     },
     "execution_count": 426,
     "metadata": {},
     "output_type": "execute_result"
    },
    {
     "data": {
      "image/png": "[encoded data removed]",
      "text/plain": [
       "<Figure size 432x288 with 1 Axes>"
      ]
     },
     "metadata": {
      "needs_background": "light"
     },
     "output_type": "display_data"
    }
   ],
   "source": [
    "plt.plot(np.mean(np.array(Theta_Errors),axis=0))"
   ]
  },
  {
   "cell_type": "code",
   "execution_count": 429,
   "id": "81529964",
   "metadata": {},
   "outputs": [
    {
     "data": {
      "text/plain": [
       "array([0.49873025, 0.18697895, 0.3142908 ])"
      ]
     },
     "execution_count": 429,
     "metadata": {},
     "output_type": "execute_result"
    }
   ],
   "source": [
    "np.mean(np.array(Thetas)[:,-1,:],axis=0)"
   ]
  },
  {
   "cell_type": "code",
   "execution_count": null,
   "id": "206914a7",
   "metadata": {},
   "outputs": [],
   "source": []
  }
 ],
 "metadata": {
  "kernelspec": {
   "display_name": "Python 3 (ipykernel)",
   "language": "python",
   "name": "python3"
  },
  "language_info": {
   "codemirror_mode": {
    "name": "ipython",
    "version": 3
   },
   "file_extension": ".py",
   "mimetype": "text/x-python",
   "name": "python",
   "nbconvert_exporter": "python",
   "pygments_lexer": "ipython3",
   "version": "3.10.1"
  }
 },
 "nbformat": 4,
 "nbformat_minor": 5
}
