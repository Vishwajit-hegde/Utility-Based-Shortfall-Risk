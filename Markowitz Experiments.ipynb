{
 "cells": [
  {
   "cell_type": "code",
   "execution_count": 1,
   "id": "4615cc21",
   "metadata": {},
   "outputs": [],
   "source": [
    "import pandas as pd\n",
    "import numpy as np\n",
    "import matplotlib.pyplot as plt\n",
    "import seaborn as sns\n",
    "import cvxpy as cp\n",
    "from copy import deepcopy \n",
    "import warnings\n",
    "from tqdm import tqdm\n",
    "warnings.filterwarnings(\"ignore\")\n",
    "np.random.seed(100)"
   ]
  },
  {
   "cell_type": "markdown",
   "id": "40f45a0c",
   "metadata": {},
   "source": [
    "### Solution using CVX"
   ]
  },
  {
   "cell_type": "code",
   "execution_count": 2,
   "id": "f44a454c",
   "metadata": {},
   "outputs": [
    {
     "data": {
      "text/plain": [
       "[0.3735830503848838, array([0.21948, 0.45131, 0.32921]), 0.1]"
      ]
     },
     "execution_count": 2,
     "metadata": {},
     "output_type": "execute_result"
    }
   ],
   "source": [
    "def generate_params(size):\n",
    "    mu = np.linspace(0.05,0.50,size)\n",
    "    sigma = np.diag(mu+0.05)**2\n",
    "    for i in range(size):\n",
    "        for j in range(i+1, size):\n",
    "            sigma[i][j] = 0.35 * np.sqrt(sigma[i][i]*sigma[j][j])\n",
    "            sigma[j][i] = sigma[i][j]\n",
    "    return mu, sigma\n",
    "\n",
    "beta = 5\n",
    "lamda = 0.1\n",
    "\n",
    "size = 3\n",
    "mu = np.array([0.13,0.1,0.08])\n",
    "sigma = np.array([[0.05,0.004,0.0002],[0.004,0.01,-0.0005],[0.0002,-0.0005,0.001]])\n",
    "R = 0.1\n",
    "\n",
    "# size = 10\n",
    "# mu, sigma = generate_params(size)\n",
    "# R = 0.4\n",
    "def sr(x,mu,sigma,beta,lamda):\n",
    "    return -np.dot(mu,x) + beta/2 * np.matmul(np.matmul(x,sigma),x) - np.log(lamda)/beta\n",
    "\n",
    "def get_optimal_ubsr(mu=mu,sigma=sigma,R=R,beta=beta,lamda=lamda):\n",
    "    x = cp.Variable(size)\n",
    "\n",
    "    # Define the objective function\n",
    "    objective = -mu @ x + (beta / 2) * cp.quad_form(x, sigma) - cp.log(lamda) / beta\n",
    "\n",
    "    # Define the constraints\n",
    "    constraints = [sum(x) <= 1] + [x[i]>=0 for i in range(size)] + [mu.T @ x >= R]\n",
    "\n",
    "    # Formulate the optimization problem\n",
    "    problem = cp.Problem(cp.Minimize(objective), constraints)\n",
    "\n",
    "    # Solve the problem\n",
    "    problem.solve(solver='OSQP', max_iter=10000)\n",
    "    \n",
    "    if problem.status == cp.OPTIMAL:\n",
    "        ubsr = -mu @ x.value + beta/2 * x.value.T @ sigma @ x.value - np.log(lamda)/beta\n",
    "        return [ubsr,np.abs(np.round(x.value,5)),round(mu @ x.value,4)]\n",
    "    else:\n",
    "        print(\"Optimization problem did not converge.\")\n",
    "        \n",
    "get_optimal_ubsr()"
   ]
  },
  {
   "cell_type": "code",
   "execution_count": 3,
   "id": "8ce2db7b",
   "metadata": {
    "scrolled": true
   },
   "outputs": [
    {
     "name": "stdout",
     "output_type": "stream",
     "text": [
      "[0.13 0.1  0.08]\n"
     ]
    }
   ],
   "source": [
    "print(mu)"
   ]
  },
  {
   "cell_type": "code",
   "execution_count": 4,
   "id": "c8f6f04e",
   "metadata": {},
   "outputs": [
    {
     "name": "stdout",
     "output_type": "stream",
     "text": [
      "[[ 0.05    0.004   0.0002]\n",
      " [ 0.004   0.01   -0.0005]\n",
      " [ 0.0002 -0.0005  0.001 ]]\n"
     ]
    }
   ],
   "source": [
    "print(sigma)"
   ]
  },
  {
   "cell_type": "markdown",
   "id": "46f574d6",
   "metadata": {},
   "source": [
    "### Analytical Solution"
   ]
  },
  {
   "cell_type": "code",
   "execution_count": 5,
   "id": "52c68246",
   "metadata": {},
   "outputs": [],
   "source": [
    "a = np.matmul(np.matmul(mu,np.linalg.inv(sigma)),np.ones(size).reshape(-1,1))[0]\n",
    "b = np.matmul(np.matmul(np.ones(size),np.linalg.inv(sigma)),np.ones(size).reshape(-1,1))[0]\n",
    "c = np.matmul(np.matmul(np.ones(size),np.linalg.inv(sigma)),mu.reshape(-1,1))[0]\n",
    "d = np.matmul(np.matmul(mu,np.linalg.inv(sigma)),mu.reshape(-1,1))[0]\n",
    "lambda1 = beta*(a - R*b) / (a*c - b*d) - 1\n",
    "lambda2 = beta*(R*c - d) / (a*c - b*d)"
   ]
  },
  {
   "cell_type": "code",
   "execution_count": 6,
   "id": "6c5d2e7f",
   "metadata": {},
   "outputs": [],
   "source": [
    "theta_star = ((1+lambda1)*np.matmul(np.linalg.inv(sigma),mu.reshape(-1,1)) + lambda2 * np.matmul(np.linalg.inv(sigma),np.ones(size).reshape(-1,1)))/beta\n",
    "theta_star = theta_star.flatten()"
   ]
  },
  {
   "cell_type": "code",
   "execution_count": 7,
   "id": "533fec85",
   "metadata": {
    "scrolled": true
   },
   "outputs": [
    {
     "data": {
      "text/plain": [
       "array([0.21947528, 0.45131181, 0.32921292])"
      ]
     },
     "execution_count": 7,
     "metadata": {},
     "output_type": "execute_result"
    }
   ],
   "source": [
    "theta_star"
   ]
  },
  {
   "cell_type": "code",
   "execution_count": 8,
   "id": "523ab0d5",
   "metadata": {
    "scrolled": true
   },
   "outputs": [
    {
     "data": {
      "text/plain": [
       "0.37358305038488443"
      ]
     },
     "execution_count": 8,
     "metadata": {},
     "output_type": "execute_result"
    }
   ],
   "source": [
    "sr_star = sr(theta_star, mu, sigma, beta, lamda)\n",
    "sr_star"
   ]
  },
  {
   "cell_type": "markdown",
   "id": "f9b1d304",
   "metadata": {},
   "source": [
    "### Solution using SGD"
   ]
  },
  {
   "cell_type": "code",
   "execution_count": 9,
   "id": "663cd383",
   "metadata": {},
   "outputs": [],
   "source": [
    "def returns(mu, sig):\n",
    "    return np.random.multivariate_normal(mean = mu, cov = sig)\n",
    "\n",
    "def returns_m(mu, sig, m):\n",
    "    return np.random.multivariate_normal(mean = mu, cov = sig, size = m)\n",
    "\n",
    "def loss_dash(x, beta):\n",
    "    return -beta*np.exp(beta*x)\n",
    "\n",
    "def estimate_h(beta, theta, sr, returns):\n",
    "    loss_dashes = loss_dash(-np.matmul(theta,returns.T)-sr,beta)\n",
    "    B_m = np.sum(loss_dashes)\n",
    "    A_m = np.matmul(loss_dashes.T,-returns)\n",
    "    h = A_m/B_m                                                                                                                             \n",
    "    return h\n",
    "\n",
    "def get_alpha_k(n,k,alpha0):\n",
    "        i = int(np.ceil(np.log2(n)) - np.ceil(np.log2(n-k)))\n",
    "        return alpha0/np.sqrt(n) * 2**(-i)"
   ]
  },
  {
   "cell_type": "code",
   "execution_count": 122,
   "id": "91fae4ac",
   "metadata": {},
   "outputs": [
    {
     "data": {
      "text/plain": [
       "0.034938562148434216"
      ]
     },
     "execution_count": 122,
     "metadata": {},
     "output_type": "execute_result"
    }
   ],
   "source": [
    "get_alpha_k(500,495,50)"
   ]
  },
  {
   "cell_type": "code",
   "execution_count": 10,
   "id": "1bae1e88",
   "metadata": {},
   "outputs": [],
   "source": [
    "def loss(x,beta=beta):\n",
    "    return np.exp(beta*x)\n",
    "\n",
    "def get_xi(theta,return_samples):\n",
    "    xi_vec = -np.matmul(theta,return_samples.T)\n",
    "    return xi_vec\n",
    "\n",
    "def estimate_sr(theta,return_samples):\n",
    "    tl = 0\n",
    "    tu = 1\n",
    "    t0 = 0.5\n",
    "    t = deepcopy(t0)\n",
    "    c = 100\n",
    "    xi_vec = get_xi(theta,return_samples)\n",
    "    k = 1\n",
    "    for xi in xi_vec:\n",
    "        g_hat = loss(xi-t) - lamda\n",
    "        t = t + c/k * g_hat\n",
    "        k += 1\n",
    "        t = min(max(t,tl),tu)\n",
    "    return t\n"
   ]
  },
  {
   "cell_type": "markdown",
   "id": "7e2baef5",
   "metadata": {},
   "source": [
    "### Convex Case"
   ]
  },
  {
   "cell_type": "code",
   "execution_count": 179,
   "id": "3ec64db0",
   "metadata": {},
   "outputs": [
    {
     "name": "stderr",
     "output_type": "stream",
     "text": [
      "100%|████████████████████████████████████████████████████████████████████████████████| 100/100 [05:47<00:00,  3.47s/it]\n"
     ]
    }
   ],
   "source": [
    "Thetas1 = []\n",
    "SRs1 = []\n",
    "alpha0 = 10\n",
    "m = 100\n",
    "n = 1000\n",
    "np.random.seed(101)\n",
    "for it in tqdm(range(100)):\n",
    "    theta_vals = []\n",
    "    sr_estimates = []\n",
    "    theta_init = np.random.uniform(0,1,3)\n",
    "    theta_init = theta_init/np.sum(theta_init)\n",
    "    theta_vals.append(deepcopy(theta_init))\n",
    "    return_samples = []\n",
    "    theta = deepcopy(theta_init)\n",
    "    return_samples = returns_m(mu, sigma, m)\n",
    "    \n",
    "    for k in range(n):\n",
    "        if k>0 and k<20:\n",
    "            r_samples = returns_m(mu, sigma, m)\n",
    "            return_samples = np.concatenate((return_samples,r_samples),axis=0)\n",
    "        elif k==0:\n",
    "            return_samples = r_samples    \n",
    "        sr_val = estimate_sr(theta/np.sum(theta),return_samples[:2000])\n",
    "        r_i = np.mean(return_samples, axis = 0)\n",
    "        estimate = estimate_h(beta, theta, sr_val, return_samples)\n",
    "\n",
    "        alpha = get_alpha_k(n,k,alpha0)\n",
    "        j = np.random.choice([0,1,2])\n",
    "        theta[j] = theta[j] - alpha * (estimate[j] - lambda1 * r_i[j] - lambda2)\n",
    "        if theta[j] < 0:\n",
    "            theta[j] = 0\n",
    "\n",
    "        theta_vals.append(theta/np.sum(theta))\n",
    "        sr_estimates.append(sr_val)\n",
    "        \n",
    "    Thetas1.append(theta_vals)\n",
    "    SRs1.append(sr_estimates)"
   ]
  },
  {
   "cell_type": "code",
   "execution_count": 220,
   "id": "e25c9f93",
   "metadata": {},
   "outputs": [
    {
     "data": {
      "text/plain": [
       "[<matplotlib.lines.Line2D at 0x1e6a92361d0>]"
      ]
     },
     "execution_count": 220,
     "metadata": {},
     "output_type": "execute_result"
    },
    {
     "data": {
      "image/png": "[encoded data removed]",
      "text/plain": [
       "<Figure size 432x288 with 1 Axes>"
      ]
     },
     "metadata": {
      "needs_background": "light"
     },
     "output_type": "display_data"
    }
   ],
   "source": [
    "plt.plot(np.mean(np.abs(np.array(SRs1)-sr_star),axis=0))"
   ]
  },
  {
   "cell_type": "code",
   "execution_count": 226,
   "id": "32b7df34",
   "metadata": {
    "scrolled": true
   },
   "outputs": [
    {
     "data": {
      "text/plain": [
       "[<matplotlib.lines.Line2D at 0x1e6aa2d8970>]"
      ]
     },
     "execution_count": 226,
     "metadata": {},
     "output_type": "execute_result"
    },
    {
     "data": {
      "image/png": "[encoded data removed]",
      "text/plain": [
       "<Figure size 432x288 with 1 Axes>"
      ]
     },
     "metadata": {
      "needs_background": "light"
     },
     "output_type": "display_data"
    }
   ],
   "source": [
    "Theta_Errors = []\n",
    "for j in range(100):\n",
    "    theta_error = []\n",
    "    for i in range(len(Thetas1[j])):\n",
    "        theta_error.append(np.sum((Thetas1[j][i]-theta_star)**2))\n",
    "    Theta_Errors.append(theta_error)\n",
    "    \n",
    "plt.plot(np.mean(np.array(Theta_Errors),axis=0))"
   ]
  },
  {
   "cell_type": "code",
   "execution_count": 210,
   "id": "b5c84192",
   "metadata": {},
   "outputs": [],
   "source": [
    "df = pd.DataFrame(np.mean(np.abs(np.array(SRs1)-sr_star),axis=0).reshape(-1,1),columns=['|ubsr - ubsr*|'])\n",
    "df.to_csv(\"markowitz_ubsr_error_convex_case.csv\")"
   ]
  },
  {
   "cell_type": "code",
   "execution_count": 211,
   "id": "61d8f8b7",
   "metadata": {},
   "outputs": [],
   "source": [
    "df = pd.DataFrame(np.mean(np.array(Theta_Errors),axis=0).reshape(-1,1),columns=['|Theta - Theta*|^2'])\n",
    "df.to_csv(\"markowitz_theta_error_squared_convex_case.csv\")"
   ]
  },
  {
   "cell_type": "code",
   "execution_count": 182,
   "id": "48e8a0c6",
   "metadata": {
    "scrolled": false
   },
   "outputs": [
    {
     "data": {
      "text/plain": [
       "array([0.22060688, 0.46338056, 0.31601256])"
      ]
     },
     "execution_count": 182,
     "metadata": {},
     "output_type": "execute_result"
    }
   ],
   "source": [
    "np.mean(np.array(Thetas1)[:,-1,:],axis=0)"
   ]
  },
  {
   "cell_type": "code",
   "execution_count": 227,
   "id": "63677d17",
   "metadata": {
    "scrolled": false
   },
   "outputs": [
    {
     "data": {
      "text/plain": [
       "0.0217614169631516"
      ]
     },
     "execution_count": 227,
     "metadata": {},
     "output_type": "execute_result"
    }
   ],
   "source": [
    "np.std(np.array(Theta_Errors),axis=0)[-1]"
   ]
  },
  {
   "cell_type": "code",
   "execution_count": 217,
   "id": "f066f98c",
   "metadata": {
    "scrolled": true
   },
   "outputs": [
    {
     "data": {
      "text/plain": [
       "0.005544173552639107"
      ]
     },
     "execution_count": 217,
     "metadata": {},
     "output_type": "execute_result"
    }
   ],
   "source": [
    "np.std(np.abs(np.array(SRs1)-sr_star),axis=0)[-1]"
   ]
  },
  {
   "cell_type": "code",
   "execution_count": 221,
   "id": "3a32d936",
   "metadata": {
    "scrolled": false
   },
   "outputs": [
    {
     "data": {
      "text/plain": [
       "0.37340525280654646"
      ]
     },
     "execution_count": 221,
     "metadata": {},
     "output_type": "execute_result"
    }
   ],
   "source": [
    "np.mean(SRs1,axis=0)[-1]"
   ]
  },
  {
   "cell_type": "code",
   "execution_count": 218,
   "id": "76e96bfa",
   "metadata": {},
   "outputs": [
    {
     "data": {
      "text/plain": [
       "0.008807145058759696"
      ]
     },
     "execution_count": 218,
     "metadata": {},
     "output_type": "execute_result"
    }
   ],
   "source": [
    "np.std(SRs1,axis=0)[-1]"
   ]
  },
  {
   "cell_type": "markdown",
   "id": "7a07578b",
   "metadata": {},
   "source": [
    "### Strongly Convex Case"
   ]
  },
  {
   "cell_type": "code",
   "execution_count": 212,
   "id": "1f35b5cf",
   "metadata": {},
   "outputs": [
    {
     "name": "stderr",
     "output_type": "stream",
     "text": [
      "100%|████████████████████████████████████████████████████████████████████████████████| 100/100 [06:32<00:00,  3.92s/it]\n"
     ]
    }
   ],
   "source": [
    "Thetas2 = []\n",
    "SRs2 = []\n",
    "c = 50\n",
    "m = 100\n",
    "n = 1000\n",
    "np.random.seed(101)\n",
    "\n",
    "for it in tqdm(range(100)):\n",
    "    theta_vals = []\n",
    "    sr_estimates = []\n",
    "    theta_init = np.random.uniform(0,1,3)\n",
    "    theta_init = theta_init/np.sum(theta_init)\n",
    "    theta_vals.append(deepcopy(theta_init))\n",
    "    return_samples = []\n",
    "    theta = deepcopy(theta_init) \n",
    "    return_samples = returns_m(mu, sigma, m)\n",
    "    for k in range(n):\n",
    "        if k>0 and k<20:\n",
    "            r_samples = returns_m(mu, sigma, m)\n",
    "            return_samples = np.concatenate((return_samples,r_samples),axis=0)\n",
    "        elif k==0:\n",
    "            return_samples = r_samples    \n",
    "        sr_val = estimate_sr(theta/np.sum(theta),return_samples[:2000])\n",
    "        r_i = np.mean(return_samples, axis = 0)\n",
    "        estimate = estimate_h(beta, theta, sr_val, return_samples)\n",
    "\n",
    "        alpha = c/(c+k)\n",
    "        j = np.random.choice([0,1,2])\n",
    "        theta[j] = theta[j] - alpha * (estimate[j] - lambda1 * r_i[j] - lambda2)\n",
    "        if theta[j] < 0:\n",
    "            theta[j] = 0\n",
    "        theta_vals.append(theta/np.sum(theta))\n",
    "        sr_estimates.append(sr_val)\n",
    "        \n",
    "    Thetas2.append(theta_vals)\n",
    "    SRs2.append(sr_estimates)"
   ]
  },
  {
   "cell_type": "code",
   "execution_count": 213,
   "id": "4abe1e58",
   "metadata": {
    "scrolled": true
   },
   "outputs": [
    {
     "data": {
      "text/plain": [
       "[<matplotlib.lines.Line2D at 0x1e6a8c25450>]"
      ]
     },
     "execution_count": 213,
     "metadata": {},
     "output_type": "execute_result"
    },
    {
     "data": {
      "image/png": "[encoded data removed]",
      "text/plain": [
       "<Figure size 432x288 with 1 Axes>"
      ]
     },
     "metadata": {
      "needs_background": "light"
     },
     "output_type": "display_data"
    }
   ],
   "source": [
    "plt.plot(np.mean(np.abs(np.array(SRs2)-sr_star),axis=0))"
   ]
  },
  {
   "cell_type": "code",
   "execution_count": 224,
   "id": "a923aaa2",
   "metadata": {},
   "outputs": [
    {
     "data": {
      "text/plain": [
       "[<matplotlib.lines.Line2D at 0x1e6a6ef5960>]"
      ]
     },
     "execution_count": 224,
     "metadata": {},
     "output_type": "execute_result"
    },
    {
     "data": {
      "image/png": "[encoded data removed]",
      "text/plain": [
       "<Figure size 432x288 with 1 Axes>"
      ]
     },
     "metadata": {
      "needs_background": "light"
     },
     "output_type": "display_data"
    }
   ],
   "source": [
    "Theta_Errors = []\n",
    "for j in range(100):\n",
    "    theta_error = []\n",
    "    for i in range(len(Thetas2[j])):\n",
    "        theta_error.append(np.sum((Thetas2[j][i]-theta_star)**2))\n",
    "    Theta_Errors.append(theta_error)\n",
    "    \n",
    "plt.plot(np.mean(np.array(Theta_Errors),axis=0))"
   ]
  },
  {
   "cell_type": "code",
   "execution_count": 215,
   "id": "4a143190",
   "metadata": {},
   "outputs": [],
   "source": [
    "df = pd.DataFrame(np.mean(np.abs(np.array(SRs2)-sr_star),axis=0).reshape(-1,1),columns=['|ubsr - ubsr*|'])\n",
    "df.to_csv(\"markowitz_ubsr_error_strongly_convex_case.csv\")"
   ]
  },
  {
   "cell_type": "code",
   "execution_count": 216,
   "id": "8b44827e",
   "metadata": {},
   "outputs": [],
   "source": [
    "df = pd.DataFrame((np.mean(np.array(Theta_Errors),axis=0)).reshape(-1,1),columns=['|Theta - Theta*|^2'])\n",
    "df.to_csv(\"markowitz_theta_error_squared_strongly_convex_case.csv\")"
   ]
  },
  {
   "cell_type": "code",
   "execution_count": 190,
   "id": "22b22991",
   "metadata": {},
   "outputs": [
    {
     "data": {
      "text/plain": [
       "array([0.24481511, 0.44474503, 0.31043986])"
      ]
     },
     "execution_count": 190,
     "metadata": {},
     "output_type": "execute_result"
    }
   ],
   "source": [
    "np.mean(np.array(Thetas2)[:,-1,:],axis=0)"
   ]
  },
  {
   "cell_type": "code",
   "execution_count": 222,
   "id": "305503da",
   "metadata": {
    "scrolled": false
   },
   "outputs": [
    {
     "data": {
      "text/plain": [
       "0.3734904323852629"
      ]
     },
     "execution_count": 222,
     "metadata": {},
     "output_type": "execute_result"
    }
   ],
   "source": [
    "np.mean(SRs2,axis=0)[-1]"
   ]
  },
  {
   "cell_type": "code",
   "execution_count": 225,
   "id": "66a3ce12",
   "metadata": {
    "scrolled": true
   },
   "outputs": [
    {
     "data": {
      "text/plain": [
       "0.02324917854942634"
      ]
     },
     "execution_count": 225,
     "metadata": {},
     "output_type": "execute_result"
    }
   ],
   "source": [
    "np.std(np.array(Theta_Errors),axis=0)[-1]"
   ]
  },
  {
   "cell_type": "code",
   "execution_count": 228,
   "id": "8d9d1a5a",
   "metadata": {},
   "outputs": [
    {
     "data": {
      "text/plain": [
       "0.005615570170628716"
      ]
     },
     "execution_count": 228,
     "metadata": {},
     "output_type": "execute_result"
    }
   ],
   "source": [
    "np.std(np.abs(np.array(SRs2)-sr_star),axis=0)[-1]"
   ]
  },
  {
   "cell_type": "code",
   "execution_count": null,
   "id": "c175231e",
   "metadata": {},
   "outputs": [],
   "source": []
  }
 ],
 "metadata": {
  "kernelspec": {
   "display_name": "Python 3 (ipykernel)",
   "language": "python",
   "name": "python3"
  },
  "language_info": {
   "codemirror_mode": {
    "name": "ipython",
    "version": 3
   },
   "file_extension": ".py",
   "mimetype": "text/x-python",
   "name": "python",
   "nbconvert_exporter": "python",
   "pygments_lexer": "ipython3",
   "version": "3.10.1"
  }
 },
 "nbformat": 4,
 "nbformat_minor": 5
}
