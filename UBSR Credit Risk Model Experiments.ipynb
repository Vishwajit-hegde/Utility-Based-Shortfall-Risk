{
 "cells": [
  {
   "cell_type": "code",
   "execution_count": 2,
   "metadata": {},
   "outputs": [],
   "source": [
    "import numpy as np\n",
    "from scipy.stats import norm\n",
    "from time import time\n",
    "import matplotlib.pyplot as plt"
   ]
  },
  {
   "cell_type": "markdown",
   "metadata": {},
   "source": [
    "## Credit risk UBSR estimation comparison between online update and SAA (Sample Average Approximation)"
   ]
  },
  {
   "cell_type": "code",
   "execution_count": 3,
   "metadata": {},
   "outputs": [],
   "source": [
    "#Paramter Initialization\n",
    "m = 25\n",
    "n = 1000\n",
    "d = 6\n",
    "p = 0.05\n",
    "eta = 2\n",
    "lamda = 0.05\n",
    "v = np.array([1 + 0.25*(i//5) for i in range(m)])\n",
    "A = np.zeros((m,d+1))\n",
    "A[:5,1] = A[5:10,2] = A[10:15,3] = A[15:20,4] = A[20:25,5] = A[:,6] = 0.1\n",
    "A[:,0] = np.sqrt(1 - np.linalg.norm(A,axis=1)**2)\n",
    "t0 = np.random.uniform(1,10,1)[0]"
   ]
  },
  {
   "cell_type": "code",
   "execution_count": 62,
   "metadata": {},
   "outputs": [],
   "source": [
    "\n",
    "class CreditRiskUBSR:\n",
    "    def __init__(self,m,d,v,A,eta,lamda,p,n,t0):\n",
    "        self.m = m\n",
    "        self.d = d\n",
    "        self.v = np.tile(v,(n,1))\n",
    "        self.A = np.tile(A,(n,1,1))\n",
    "        self.eta = eta\n",
    "        self.lamda = lamda\n",
    "        self.p = p\n",
    "        self.n = n\n",
    "        self.Z = self.sample_Z()\n",
    "        self.eps = self.sample_eps()\n",
    "        self.R = self.calc_R()\n",
    "        self.D = self.calc_D()\n",
    "        self.xi = self.calc_xi()\n",
    "        self.c = 100\n",
    "        self.tl = 1\n",
    "        self.tu = 10\n",
    "        self.tk = np.random.uniform(self.tl,self.tu,1)[0]\n",
    "        \n",
    "    def sample_Z(self):\n",
    "        Z = np.random.normal(0,1,(self.n,self.d))\n",
    "        return np.tile(Z,(self.m,1,1))\n",
    "    \n",
    "    def sample_eps(self):\n",
    "        eps = np.random.normal(0,1,(self.n,self.m))\n",
    "        return eps\n",
    "    \n",
    "    def calc_R(self):\n",
    "        R = np.zeros((self.n,self.m))\n",
    "        R = self.eps*self.A[:,:,0] \n",
    "        for j in range(1,7):\n",
    "            R += self.A[:,:,j]*self.Z[:,:,j-1].T\n",
    "        return R\n",
    "    \n",
    "    def calc_D(self):\n",
    "        r = norm.ppf(1-self.p)*np.ones((self.n,self.m))\n",
    "        D = (self.R>r).astype(int)\n",
    "        return D\n",
    "    \n",
    "    def calc_xi(self):\n",
    "        xi = np.sum(self.v*self.D,axis=1)\n",
    "        return xi\n",
    "    \n",
    "    def l(self,x):\n",
    "        return 1/self.eta*(x>0).astype(int)*x**self.eta\n",
    "    \n",
    "    def ln_t(self,t):\n",
    "        return np.sum(self.l(self.xi-t)) / self.n\n",
    "    \n",
    "    def ln_t_(self,t,k):\n",
    "        return np.sum(self.l(self.xi[:k]-t)) / k\n",
    "    \n",
    "    def update_t(self,k):\n",
    "        ak = self.c/k\n",
    "        g_hat = self.l(self.xi[k-1]-self.tk) - self.lamda\n",
    "        self.tk = self.tk + ak*g_hat\n",
    "        self.tk = min(max(self.tk,self.tl),self.tu)\n",
    "        \n",
    "        \n",
    "    def online_estimator(self):\n",
    "        self.online_times = []\n",
    "        self.online_ts = []\n",
    "        start = time()\n",
    "        for k in range(1,self.n+1):\n",
    "            self.update_t(k)\n",
    "            if k%10==0:\n",
    "                self.online_times.append(time()-start)\n",
    "                self.online_ts.append(self.tk)\n",
    "            \n",
    "    def SAA_estimator(self):\n",
    "        self.SAA_tstars = []\n",
    "        self.SAA_times = []\n",
    "        start = time()\n",
    "        for k in np.arange(10,self.n+1,10):\n",
    "            error = 500\n",
    "            tl = self.tl\n",
    "            tu = self.tu\n",
    "            x = 0\n",
    "            while abs(error)>1e-3:\n",
    "                ti = (tl+tu)/2\n",
    "                error = self.lamda - self.ln_t_(ti,k)\n",
    "                if error<0:\n",
    "                    tl = ti\n",
    "                else:\n",
    "                    tu = ti\n",
    "                x+=1\n",
    "                if x==10000:\n",
    "                    break\n",
    "            self.SAA_tstars.append(ti)\n",
    "            self.SAA_times.append(time()-start)\n",
    "            \n",
    "    def estimate_tstar(self):\n",
    "        tl = self.tl\n",
    "        tu = self.tu\n",
    "        error = 100\n",
    "        x = 0\n",
    "        while abs(error)>1e-3:\n",
    "            ti = (tl+tu)/2\n",
    "            error = self.lamda - self.ln_t(ti)\n",
    "            if error<0:\n",
    "                tl = ti\n",
    "            else:\n",
    "                tu = ti\n",
    "            x += 1\n",
    "            if x==10000:\n",
    "                break\n",
    "        return round(ti,4)"
   ]
  },
  {
   "cell_type": "code",
   "execution_count": 63,
   "metadata": {},
   "outputs": [
    {
     "data": {
      "application/vnd.jupyter.widget-view+json": {
       "model_id": "bce68b3874a147d0b5765bd169ce619c",
       "version_major": 2,
       "version_minor": 0
      },
      "text/plain": [
       "  0%|          | 0/1000 [00:00<?, ?it/s]"
      ]
     },
     "metadata": {},
     "output_type": "display_data"
    }
   ],
   "source": [
    "online_ts = []\n",
    "online_times = []\n",
    "SAA_tstars = []\n",
    "SAA_times = []\n",
    "from tqdm.notebook import tqdm\n",
    "for i in tqdm(range(1000)):\n",
    "    ubsr = CreditRiskUBSR(m,d,v,A,eta,lamda,0.05,10000,t0)\n",
    "    ubsr.online_estimator()\n",
    "    ubsr.SAA_estimator()\n",
    "    online_ts.append(ubsr.online_ts)\n",
    "    online_times.append(ubsr.online_times)\n",
    "    SAA_tstars.append(ubsr.SAA_tstars)\n",
    "    SAA_times.append(ubsr.SAA_times)"
   ]
  },
  {
   "cell_type": "code",
   "execution_count": 65,
   "metadata": {},
   "outputs": [
    {
     "data": {
      "text/plain": [
       "[<matplotlib.lines.Line2D at 0x2201384b760>]"
      ]
     },
     "execution_count": 65,
     "metadata": {},
     "output_type": "execute_result"
    },
    {
     "data": {
      "image/png": "[encoded data removed]",
      "text/plain": [
       "<Figure size 720x648 with 1 Axes>"
      ]
     },
     "metadata": {
      "needs_background": "light"
     },
     "output_type": "display_data"
    }
   ],
   "source": [
    "sr = 5.11\n",
    "plt.figure(figsize=(10,9))\n",
    "plt.plot(list(range(10,ubsr.n+1,10)),np.mean((np.array(online_ts) - sr)**2,axis=0))\n",
    "plt.plot(np.arange(10,ubsr.n+1,10),np.mean((np.array(SAA_tstars) - sr)**2,axis=0))"
   ]
  },
  {
   "cell_type": "code",
   "execution_count": 67,
   "metadata": {},
   "outputs": [],
   "source": [
    "rows = []\n",
    "rows.append([100,np.mean((np.array(online_ts) - sr)**2,axis=0)[9],\n",
    "             np.mean((np.array(SAA_tstars) - sr)**2,axis=0)[9],\n",
    "             np.sum(np.array(online_times),axis=0)[9],np.sum(np.array(SAA_times),axis=0)[9]])\n",
    "rows.append([1000,np.mean((np.array(online_ts) - sr)**2,axis=0)[99],\n",
    "             np.mean((np.array(SAA_tstars) - sr)**2,axis=0)[99],\n",
    "             np.sum(np.array(online_times),axis=0)[99],np.sum(np.array(SAA_times),axis=0)[99]])\n",
    "rows.append([10000,np.mean((np.array(online_ts) - sr)**2,axis=0)[999],\n",
    "             np.mean((np.array(SAA_tstars) - sr)**2,axis=0)[999],\n",
    "             np.sum(np.array(online_times),axis=0)[999],np.sum(np.array(SAA_times),axis=0)[999]])"
   ]
  },
  {
   "cell_type": "code",
   "execution_count": 54,
   "metadata": {},
   "outputs": [],
   "source": [
    "import pandas as pd"
   ]
  },
  {
   "cell_type": "code",
   "execution_count": 68,
   "metadata": {},
   "outputs": [],
   "source": [
    "df = pd.DataFrame(data=rows,columns=['samples','Online estimation error','SAA error','Online estimation time taken','SAA time taken'])"
   ]
  },
  {
   "cell_type": "code",
   "execution_count": 71,
   "metadata": {},
   "outputs": [],
   "source": [
    "df.round(4).to_csv('time comparison.csv',index=False)"
   ]
  },
  {
   "cell_type": "code",
   "execution_count": 75,
   "metadata": {},
   "outputs": [],
   "source": [
    "df_plot = pd.DataFrame()\n",
    "df_plot['Samples'] = np.arange(10,ubsr.n+1,10)\n",
    "df_plot['SAA error mean'] = np.mean((np.array(SAA_tstars) - sr)**2,axis=0)\n",
    "df_plot['Online error mean'] = np.mean((np.array(online_ts) - sr)**2,axis=0)\n",
    "df_plot['SAA error std'] = np.std((np.array(SAA_tstars) - sr)**2,axis=0)\n",
    "df_plot['Online error std'] = np.std((np.array(online_ts) - sr)**2,axis=0)"
   ]
  },
  {
   "cell_type": "code",
   "execution_count": 76,
   "metadata": {},
   "outputs": [],
   "source": [
    "df_plot.to_csv('plot_data.csv',index=False)"
   ]
  },
  {
   "cell_type": "code",
   "execution_count": 9,
   "metadata": {},
   "outputs": [],
   "source": [
    "import pandas as pd\n",
    "df = pd.read_csv('time comparison.csv')"
   ]
  },
  {
   "cell_type": "code",
   "execution_count": 10,
   "metadata": {},
   "outputs": [
    {
     "data": {
      "text/html": [
       "<div>\n",
       "<style scoped>\n",
       "    .dataframe tbody tr th:only-of-type {\n",
       "        vertical-align: middle;\n",
       "    }\n",
       "\n",
       "    .dataframe tbody tr th {\n",
       "        vertical-align: top;\n",
       "    }\n",
       "\n",
       "    .dataframe thead th {\n",
       "        text-align: right;\n",
       "    }\n",
       "</style>\n",
       "<table border=\"1\" class=\"dataframe\">\n",
       "  <thead>\n",
       "    <tr style=\"text-align: right;\">\n",
       "      <th></th>\n",
       "      <th>samples</th>\n",
       "      <th>Online estimation error</th>\n",
       "      <th>SAA error</th>\n",
       "      <th>Online estimation time taken</th>\n",
       "      <th>SAA time taken</th>\n",
       "    </tr>\n",
       "  </thead>\n",
       "  <tbody>\n",
       "    <tr>\n",
       "      <th>0</th>\n",
       "      <td>100</td>\n",
       "      <td>3.8175</td>\n",
       "      <td>0.8488</td>\n",
       "      <td>0.3762</td>\n",
       "      <td>1.8109</td>\n",
       "    </tr>\n",
       "    <tr>\n",
       "      <th>1</th>\n",
       "      <td>1000</td>\n",
       "      <td>0.6142</td>\n",
       "      <td>0.1517</td>\n",
       "      <td>3.0875</td>\n",
       "      <td>9.1270</td>\n",
       "    </tr>\n",
       "    <tr>\n",
       "      <th>2</th>\n",
       "      <td>10000</td>\n",
       "      <td>0.0838</td>\n",
       "      <td>0.0539</td>\n",
       "      <td>30.5046</td>\n",
       "      <td>145.4006</td>\n",
       "    </tr>\n",
       "  </tbody>\n",
       "</table>\n",
       "</div>"
      ],
      "text/plain": [
       "   samples  Online estimation error  SAA error  Online estimation time taken  \\\n",
       "0      100                   3.8175     0.8488                        0.3762   \n",
       "1     1000                   0.6142     0.1517                        3.0875   \n",
       "2    10000                   0.0838     0.0539                       30.5046   \n",
       "\n",
       "   SAA time taken  \n",
       "0          1.8109  \n",
       "1          9.1270  \n",
       "2        145.4006  "
      ]
     },
     "execution_count": 10,
     "metadata": {},
     "output_type": "execute_result"
    }
   ],
   "source": [
    "df"
   ]
  },
  {
   "cell_type": "code",
   "execution_count": 3,
   "metadata": {},
   "outputs": [],
   "source": [
    "df = pd.read_csv('plot_data.csv')"
   ]
  },
  {
   "cell_type": "code",
   "execution_count": 5,
   "metadata": {},
   "outputs": [],
   "source": [
    "import numpy as np"
   ]
  },
  {
   "cell_type": "code",
   "execution_count": 6,
   "metadata": {},
   "outputs": [],
   "source": [
    "df['SAA error std'] /= np.sqrt(1000)\n",
    "df['Online error std'] /= np.sqrt(1000)"
   ]
  },
  {
   "cell_type": "code",
   "execution_count": 7,
   "metadata": {},
   "outputs": [],
   "source": [
    "df.to_csv('plot_data.csv',index=False)"
   ]
  }
 ],
 "metadata": {
  "kernelspec": {
   "display_name": "Python 3 (ipykernel)",
   "language": "python",
   "name": "python3"
  },
  "language_info": {
   "codemirror_mode": {
    "name": "ipython",
    "version": 3
   },
   "file_extension": ".py",
   "mimetype": "text/x-python",
   "name": "python",
   "nbconvert_exporter": "python",
   "pygments_lexer": "ipython3",
   "version": "3.10.1"
  }
 },
 "nbformat": 4,
 "nbformat_minor": 4
}
